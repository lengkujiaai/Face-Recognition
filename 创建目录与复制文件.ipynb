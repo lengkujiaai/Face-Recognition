{
 "cells": [
  {
   "cell_type": "markdown",
   "metadata": {},
   "source": [
    "# 背景：\n",
    "\n",
    "1、记录文件有限且不能多人同时操作一个文件\n",
    "\n",
    "2、学生在一个文件夹下面操作，每个人如果生成多个文件，30人就有100多个，不方便查找\n",
    "\n",
    "3、让每个人在自己的文件夹下面操作，互不影响\n",
    "\n",
    "4、执行下面的代码，会自动为学生创建文件夹并把记录文件复制一份给学生\n",
    "\n",
    "\n",
    "\n",
    "# 下面有两种方法：\n",
    "\n",
    "第一种方法最简单，但需要手动填写学生名字的列表\n",
    "\n",
    "第二种不用手动填写学生名字列表，但执行步骤较多"
   ]
  },
  {
   "cell_type": "markdown",
   "metadata": {},
   "source": [
    "## 第一种方法： 根据列表为学生生成复制文件"
   ]
  },
  {
   "cell_type": "code",
   "execution_count": 1,
   "metadata": {},
   "outputs": [],
   "source": [
    "import os\n",
    "import shutil\n",
    "students_name = ['1_zhang','2_li','3_wang','4_zhao']\n",
    "file_name = 'students_file'#要给学生复制文件的目录，可以自定义\n",
    "students_record = \"2020-12-22.csv\"#要复制的文件，本目录下面应该存在才可以"
   ]
  },
  {
   "cell_type": "code",
   "execution_count": 2,
   "metadata": {},
   "outputs": [],
   "source": [
    "for name in students_name:\n",
    "    ret = os.path.exists(file_name + \"/\" + name)\n",
    "    if ret == False:\n",
    "        os.makedirs(file_name + \"/\" + name)\n",
    "    shutil.copy(students_record,file_name + \"/\" + name + \"/\" + name + \".csv\")"
   ]
  },
  {
   "cell_type": "markdown",
   "metadata": {},
   "source": [
    "## 第二种方法： 根据文件夹image中图片的名字为学生复制记录文件"
   ]
  },
  {
   "cell_type": "markdown",
   "metadata": {},
   "source": [
    "students_record是记录好的名字，复制的文件都存放到file_name文件夹中，"
   ]
  },
  {
   "cell_type": "code",
   "execution_count": 1,
   "metadata": {},
   "outputs": [],
   "source": [
    "import os\n",
    "import cv2\n",
    "import shutil\n",
    "\n",
    "file_name = \"students_file2\"#学生操作文件的名字\n",
    "path = 'image'#照片存放的位置\n",
    "students_record = \"2020-12-22.csv\"#这个是刷脸签到的记录"
   ]
  },
  {
   "cell_type": "markdown",
   "metadata": {},
   "source": [
    "os.path.exists(file_name)判断文件file_name是否存在,如果存在则ret为True，不存在则ret为False\n",
    "\n",
    "如果ret为False，则创建一下；如果有对应的文件夹则没有必要创建\n"
   ]
  },
  {
   "cell_type": "code",
   "execution_count": 3,
   "metadata": {},
   "outputs": [],
   "source": [
    "ret = 0\n",
    "ret = os.path.exists(file_name)\n",
    "if ret == False:\n",
    "    os.makedirs(file_name)"
   ]
  },
  {
   "cell_type": "markdown",
   "metadata": {},
   "source": [
    "先获取文件夹image下所有图片的名字列表，做为复制到文件夹file_name下面的名字"
   ]
  },
  {
   "cell_type": "code",
   "execution_count": 4,
   "metadata": {},
   "outputs": [],
   "source": [
    "className = []\n",
    "myList = os.listdir(path)\n",
    "for x,cl in enumerate(myList):\n",
    "        className.append(os.path.splitext(cl)[0])"
   ]
  },
  {
   "cell_type": "code",
   "execution_count": 5,
   "metadata": {},
   "outputs": [],
   "source": [
    "deleted_idx = 'no'\n",
    "found = False\n",
    "deleted = False\n",
    "\n",
    "for item in className:\n",
    "    if item == '.ipynb_checkpoints':\n",
    "        deleted_idx = className.index(item)\n",
    "        found = True\n",
    "if found == True and deleted == False:\n",
    "    del(className[deleted_idx])\n",
    "    deleted = True"
   ]
  },
  {
   "cell_type": "code",
   "execution_count": 6,
   "metadata": {},
   "outputs": [],
   "source": [
    "for name in className:\n",
    "    ret = os.path.exists(file_name + \"/\" + name)\n",
    "    if ret == False:\n",
    "        os.makedirs(file_name + \"/\" + name)\n",
    "    shutil.copy(students_record,file_name + \"/\" + name + \"/\" + name + \".csv\")"
   ]
  }
 ],
 "metadata": {
  "kernelspec": {
   "display_name": "Python 3",
   "language": "python",
   "name": "python3"
  },
  "language_info": {
   "codemirror_mode": {
    "name": "ipython",
    "version": 3
   },
   "file_extension": ".py",
   "mimetype": "text/x-python",
   "name": "python",
   "nbconvert_exporter": "python",
   "pygments_lexer": "ipython3",
   "version": "3.6.9"
  }
 },
 "nbformat": 4,
 "nbformat_minor": 4
}
