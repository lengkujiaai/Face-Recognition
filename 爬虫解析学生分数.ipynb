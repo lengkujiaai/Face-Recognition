{
 "cells": [
  {
   "cell_type": "markdown",
   "metadata": {},
   "source": [
    "引入库文件，方便提取操作"
   ]
  },
  {
   "cell_type": "code",
   "execution_count": 11,
   "metadata": {},
   "outputs": [],
   "source": [
    "from bs4 import BeautifulSoup\n",
    "from urllib.request import urlopen"
   ]
  },
  {
   "cell_type": "markdown",
   "metadata": {},
   "source": [
    "获取html文件"
   ]
  },
  {
   "cell_type": "code",
   "execution_count": 12,
   "metadata": {},
   "outputs": [],
   "source": [
    "html = urlopen(\"https://7869-xiaoxue-3-6-ad8d09-1257746400.tcb.qcloud.la/score_python.html\").read().decode('utf-8')"
   ]
  },
  {
   "cell_type": "code",
   "execution_count": 13,
   "metadata": {},
   "outputs": [],
   "source": [
    "soup = BeautifulSoup(html, features='lxml')"
   ]
  },
  {
   "cell_type": "markdown",
   "metadata": {},
   "source": [
    "根据标签获取对应文本"
   ]
  },
  {
   "cell_type": "code",
   "execution_count": 14,
   "metadata": {},
   "outputs": [],
   "source": [
    "#content = soup.find_all('td',{\"border-width\":\"1px 3px\"})\n",
    "content = soup.find_all('td')\n",
    "alist = []\n",
    "for c in content:\n",
    "    text = c.get_text()\n",
    "    text = text.strip()\n",
    "    #print(text)\n",
    "    alist.append(text)"
   ]
  },
  {
   "cell_type": "markdown",
   "metadata": {},
   "source": [
    "单独存储名字和分数的列表，对应顺序不能变"
   ]
  },
  {
   "cell_type": "code",
   "execution_count": 15,
   "metadata": {},
   "outputs": [
    {
     "name": "stdout",
     "output_type": "stream",
     "text": [
      "['泠漪', 'G11_杨卓恺', 'G16_姜子坤', 'C17_吕思齐', 'G13_崔皓珺', 'G13_卓凯珩', 'c15陈润霖', 'C113_张天济', 'G12_王贯', 'G13_黄渐煊', 'c16_陈恰明', 'c112_郭钟锴', 'C19_丛嘉栋', 'G11_刘若木', 'G18_胡一珩', 'c113 印炳昆', 'C112_张子辰', 'C113_zahngtianji', 'C13-郑童宇', 'C14_杨茗钦', 'C15姓名于湛晨', 'C17_池尚远', 'C17张致维', 'C27_张赢', 'G110_王知正', 'G12_周烨焓', 'G12_苏天', 'G14_李逸飞', 'G14_陈天越', 'G15_周天桐', 'G15_高宇志', 'G16_李天硕', 'G17 陈凝然', 'G18_秦誉昂', 'G19 廖浡锐_', 'G19 赵昊阳_', 'G19_杨嘉程', 'c113 高云涵', 'c114_孟比德', 'c218']\n",
      "['1000', '900', '900', '680', '410', '310', '220', '200', '200', '200', '200', '180', '100', '100', '100', '100', '0', '0', '0', '0', '0', '0', '0', '0', '0', '0', '0', '0', '0', '0', '0', '0', '0', '0', '0', '0', '0', '0', '0', '0']\n"
     ]
    }
   ],
   "source": [
    "#print(alist)\n",
    "name = []\n",
    "score = []\n",
    "idx = 1\n",
    "while idx < len(alist):\n",
    "    name.append(alist[idx])\n",
    "    score.append(alist[idx+1])\n",
    "    idx += 13\n",
    "print(name)\n",
    "print(score)"
   ]
  },
  {
   "cell_type": "markdown",
   "metadata": {},
   "source": [
    "去掉空格及其后面的文字、去掉下划线及其后面的文字、去掉中划线及其后面的文字"
   ]
  },
  {
   "cell_type": "code",
   "execution_count": 16,
   "metadata": {},
   "outputs": [
    {
     "name": "stdout",
     "output_type": "stream",
     "text": [
      "泠漪\n",
      "G11\n",
      "G16\n",
      "C17\n",
      "G13\n",
      "G13\n",
      "c15陈润霖\n",
      "C113\n",
      "G12\n",
      "G13\n",
      "c16\n",
      "c112\n",
      "C19\n",
      "G11\n",
      "G18\n",
      "c113\n",
      "C112\n",
      "C113\n",
      "C13\n",
      "C14\n",
      "C15姓名于湛晨\n",
      "C17\n",
      "C17张致维\n",
      "C27\n",
      "G110\n",
      "G12\n",
      "G12\n",
      "G14\n",
      "G14\n",
      "G15\n",
      "G15\n",
      "G16\n",
      "G17\n",
      "G18\n",
      "G19\n",
      "G19\n",
      "G19\n",
      "c113\n",
      "c114\n",
      "c218\n"
     ]
    }
   ],
   "source": [
    "name2 = []\n",
    "for item in name:\n",
    "    tem = item.split('_')[0]\n",
    "    tem = tem.split(' ')[0]\n",
    "    tem = tem.split('-')[0]\n",
    "    print(tem)\n",
    "    name2.append(tem)"
   ]
  },
  {
   "cell_type": "markdown",
   "metadata": {},
   "source": [
    "去掉连接的汉字部分并将班级的小写统一改成对应的大写"
   ]
  },
  {
   "cell_type": "code",
   "execution_count": 17,
   "metadata": {},
   "outputs": [],
   "source": [
    "flag = False\n",
    "class_name = []\n",
    "for item in name2:\n",
    "    idx = 0 \n",
    "    flag = False\n",
    "    for ch in item:\n",
    "        if ord(ch)>255 and flag == False:\n",
    "            flag = True\n",
    "        if flag == False:\n",
    "            idx += 1\n",
    "    class_name.append(item[0:idx].upper())"
   ]
  },
  {
   "cell_type": "markdown",
   "metadata": {},
   "source": [
    "输出班级及对应分数看看"
   ]
  },
  {
   "cell_type": "code",
   "execution_count": 18,
   "metadata": {},
   "outputs": [
    {
     "name": "stdout",
     "output_type": "stream",
     "text": [
      "['', 'G11', 'G16', 'C17', 'G13', 'G13', 'C15', 'C113', 'G12', 'G13', 'C16', 'C112', 'C19', 'G11', 'G18', 'C113', 'C112', 'C113', 'C13', 'C14', 'C15', 'C17', 'C17', 'C27', 'G110', 'G12', 'G12', 'G14', 'G14', 'G15', 'G15', 'G16', 'G17', 'G18', 'G19', 'G19', 'G19', 'C113', 'C114', 'C218']\n",
      "['1000', '900', '900', '680', '410', '310', '220', '200', '200', '200', '200', '180', '100', '100', '100', '100', '0', '0', '0', '0', '0', '0', '0', '0', '0', '0', '0', '0', '0', '0', '0', '0', '0', '0', '0', '0', '0', '0', '0', '0']\n"
     ]
    }
   ],
   "source": [
    "print(class_name)\n",
    "print(score)"
   ]
  },
  {
   "cell_type": "markdown",
   "metadata": {},
   "source": [
    "初始化字典用来存储班级及得分"
   ]
  },
  {
   "cell_type": "code",
   "execution_count": 19,
   "metadata": {},
   "outputs": [
    {
     "name": "stdout",
     "output_type": "stream",
     "text": [
      "{'': 0, 'G11': 0, 'G16': 0, 'C17': 0, 'G13': 0, 'C15': 0, 'C113': 0, 'G12': 0, 'C16': 0, 'C112': 0, 'C19': 0, 'G18': 0, 'C13': 0, 'C14': 0, 'C27': 0, 'G110': 0, 'G14': 0, 'G15': 0, 'G17': 0, 'G19': 0, 'C114': 0, 'C218': 0}\n"
     ]
    }
   ],
   "source": [
    "d = {}\n",
    "for item in class_name:\n",
    "    d[item] = 0\n",
    "print(d)"
   ]
  },
  {
   "cell_type": "markdown",
   "metadata": {},
   "source": [
    "对相同班级的得分求和"
   ]
  },
  {
   "cell_type": "code",
   "execution_count": 20,
   "metadata": {},
   "outputs": [
    {
     "name": "stdout",
     "output_type": "stream",
     "text": [
      "{'': 1000, 'G11': 1000, 'G16': 900, 'C17': 680, 'G13': 920, 'C15': 220, 'C113': 300, 'G12': 200, 'C16': 200, 'C112': 180, 'C19': 100, 'G18': 100, 'C13': 0, 'C14': 0, 'C27': 0, 'G110': 0, 'G14': 0, 'G15': 0, 'G17': 0, 'G19': 0, 'C114': 0, 'C218': 0}\n"
     ]
    }
   ],
   "source": [
    "max_length = len(score)\n",
    "idx = 0\n",
    "while idx < max_length:\n",
    "    d[class_name[idx]] = d[class_name[idx]] + int(score[idx])\n",
    "    idx += 1\n",
    "print(d)"
   ]
  },
  {
   "cell_type": "markdown",
   "metadata": {},
   "source": [
    "输出结果看看，可以人工求和验证一下程序对错"
   ]
  },
  {
   "cell_type": "code",
   "execution_count": 21,
   "metadata": {},
   "outputs": [
    {
     "name": "stdout",
     "output_type": "stream",
     "text": [
      " 1000\n",
      "G11 1000\n",
      "G16 900\n",
      "C17 680\n",
      "G13 920\n",
      "C15 220\n",
      "C113 300\n",
      "G12 200\n",
      "C16 200\n",
      "C112 180\n",
      "C19 100\n",
      "G18 100\n",
      "C13 0\n",
      "C14 0\n",
      "C27 0\n",
      "G110 0\n",
      "G14 0\n",
      "G15 0\n",
      "G17 0\n",
      "G19 0\n",
      "C114 0\n",
      "C218 0\n"
     ]
    }
   ],
   "source": [
    "for item in d:\n",
    "    print((item),d[item])"
   ]
  },
  {
   "cell_type": "code",
   "execution_count": null,
   "metadata": {},
   "outputs": [],
   "source": []
  }
 ],
 "metadata": {
  "kernelspec": {
   "display_name": "Python 3",
   "language": "python",
   "name": "python3"
  },
  "language_info": {
   "codemirror_mode": {
    "name": "ipython",
    "version": 3
   },
   "file_extension": ".py",
   "mimetype": "text/x-python",
   "name": "python",
   "nbconvert_exporter": "python",
   "pygments_lexer": "ipython3",
   "version": "3.6.9"
  }
 },
 "nbformat": 4,
 "nbformat_minor": 4
}
