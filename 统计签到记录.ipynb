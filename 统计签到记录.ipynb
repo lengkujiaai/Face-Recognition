{
 "cells": [
  {
   "cell_type": "markdown",
   "metadata": {},
   "source": [
    "# 把学生的记录分成两列"
   ]
  },
  {
   "cell_type": "markdown",
   "metadata": {},
   "source": [
    "创建文件夹,第一遍会创建对应的文件夹，后面在次执行会报错，请忽略错误"
   ]
  },
  {
   "cell_type": "markdown",
   "metadata": {},
   "source": [
    "## 请同学们一定按规范命名，下面的path=\"0000_shi_hailong\"，把000换成老师分给你们的编号，后面改成自己的名字"
   ]
  },
  {
   "cell_type": "code",
   "execution_count": 43,
   "metadata": {},
   "outputs": [],
   "source": [
    "import os\n",
    "path=\"0000_shi_hailong\"\n",
    "os.mkdir(path) #第一次执行时创建文件夹，再次执行会报错，可以忽略"
   ]
  },
  {
   "cell_type": "markdown",
   "metadata": {},
   "source": [
    "先定义filename做为要解析的文件的名字"
   ]
  },
  {
   "cell_type": "code",
   "execution_count": 44,
   "metadata": {},
   "outputs": [],
   "source": [
    "filename = \"2020-12-21.csv\""
   ]
  },
  {
   "cell_type": "markdown",
   "metadata": {},
   "source": [
    "先复制一份考勤记录到自己创建的文件夹下面,并且为复制的文件起一个新名字"
   ]
  },
  {
   "cell_type": "code",
   "execution_count": 48,
   "metadata": {},
   "outputs": [],
   "source": [
    "new_name = \"my_record.csv\" #my_record这几个字母可以改成自己想要的名字"
   ]
  },
  {
   "cell_type": "code",
   "execution_count": 49,
   "metadata": {},
   "outputs": [
    {
     "data": {
      "text/plain": [
       "'0000_shi_hailong/my_record.csv'"
      ]
     },
     "execution_count": 49,
     "metadata": {},
     "output_type": "execute_result"
    }
   ],
   "source": [
    "import shutil\n",
    "shutil.copy(filename,path + \"/\" + new_name)"
   ]
  },
  {
   "cell_type": "markdown",
   "metadata": {},
   "source": [
    "后面就调用自己复制的这份文件了"
   ]
  },
  {
   "cell_type": "code",
   "execution_count": 55,
   "metadata": {},
   "outputs": [],
   "source": [
    "my_file = path + \"/\" + new_name"
   ]
  },
  {
   "cell_type": "markdown",
   "metadata": {},
   "source": [
    "要创建csv文件用来存储解析的结果，要引用csv相关的方法，所以我们先import"
   ]
  },
  {
   "cell_type": "code",
   "execution_count": 51,
   "metadata": {},
   "outputs": [],
   "source": [
    "import csv"
   ]
  },
  {
   "cell_type": "markdown",
   "metadata": {},
   "source": [
    "创建文件对象f0"
   ]
  },
  {
   "cell_type": "code",
   "execution_count": 52,
   "metadata": {},
   "outputs": [],
   "source": [
    "f0 = open(path + \"/\" + \"split.csv\",'w',encoding='utf-8')"
   ]
  },
  {
   "cell_type": "markdown",
   "metadata": {},
   "source": [
    "根据文件对象构建csv写入对象csv_writer"
   ]
  },
  {
   "cell_type": "code",
   "execution_count": 53,
   "metadata": {},
   "outputs": [],
   "source": [
    "csv_writer = csv.writer(f0)"
   ]
  },
  {
   "cell_type": "markdown",
   "metadata": {},
   "source": [
    "读取学生刷脸签到的记录，把字符串中的姓名和时间分开为两列，再存入result1.csv文件中"
   ]
  },
  {
   "cell_type": "markdown",
   "metadata": {},
   "source": [
    "创建要读取的文件对象，并一次性读取完，存入myDataList中"
   ]
  },
  {
   "cell_type": "code",
   "execution_count": 56,
   "metadata": {},
   "outputs": [],
   "source": [
    "f = open(my_file,'r+',encoding='utf-8')\n",
    "myDataList = f.readlines()"
   ]
  },
  {
   "cell_type": "code",
   "execution_count": 57,
   "metadata": {},
   "outputs": [],
   "source": [
    "for line in myDataList:\n",
    "    #print(line)\n",
    "    entry = line.split(',')\n",
    "    csv_writer.writerow(entry)"
   ]
  },
  {
   "cell_type": "markdown",
   "metadata": {},
   "source": [
    "关闭文件对象f0，如果不关闭，可能会丢失数据"
   ]
  },
  {
   "cell_type": "code",
   "execution_count": 58,
   "metadata": {},
   "outputs": [],
   "source": [
    "f0.close()\n",
    "f.close()"
   ]
  },
  {
   "cell_type": "markdown",
   "metadata": {},
   "source": [
    "# 按名字筛选学生"
   ]
  },
  {
   "cell_type": "markdown",
   "metadata": {},
   "source": [
    "先定义学生的名字student_name，筛选后存储文件的名字name_file"
   ]
  },
  {
   "cell_type": "code",
   "execution_count": 67,
   "metadata": {},
   "outputs": [],
   "source": [
    "student_name = \"LIYUSHAN\"\n",
    "name_file = student_name + \".csv\""
   ]
  },
  {
   "cell_type": "markdown",
   "metadata": {},
   "source": [
    "和上面一样，先创建文件对象，再创建文件写入对象"
   ]
  },
  {
   "cell_type": "code",
   "execution_count": 68,
   "metadata": {},
   "outputs": [],
   "source": [
    "f0 = open(path + \"/\" + name_file,'w',encoding='utf-8')\n",
    "csv_writer = csv.writer(f0)"
   ]
  },
  {
   "cell_type": "markdown",
   "metadata": {},
   "source": [
    "和上面的一样，读取文件"
   ]
  },
  {
   "cell_type": "code",
   "execution_count": 69,
   "metadata": {},
   "outputs": [],
   "source": [
    "f = open(my_file,'r+',encoding='utf-8')\n",
    "myDataList = f.readlines()\n",
    "for line in myDataList:\n",
    "    entry = line.split(',')\n",
    "    if len(entry) == 2:\n",
    "        if entry[0] == student_name:\n",
    "            csv_writer.writerow(entry)"
   ]
  },
  {
   "cell_type": "code",
   "execution_count": 70,
   "metadata": {},
   "outputs": [],
   "source": [
    "f0.close()\n",
    "f.close()"
   ]
  },
  {
   "cell_type": "markdown",
   "metadata": {},
   "source": [
    "# 按某一时间段筛选"
   ]
  },
  {
   "cell_type": "markdown",
   "metadata": {},
   "source": [
    "请填写标准格式,修改时间段的开始时间和结束时间时，只需要修改单引号里面的数字，不要修改冒号或添加其他符号\n",
    "\n",
    "可以修改要保存的时间段的文件名字time_file,注意，只能修改单引号里面的圆点前面的字母"
   ]
  },
  {
   "cell_type": "code",
   "execution_count": 73,
   "metadata": {},
   "outputs": [],
   "source": [
    "start_time= '17:30:00'\n",
    "end_time = '18:30:00'\n",
    "time_file ='your_time_student.csv'"
   ]
  },
  {
   "cell_type": "markdown",
   "metadata": {},
   "source": [
    "创建要保存的文件的对象f0和写入对象csv_writer"
   ]
  },
  {
   "cell_type": "code",
   "execution_count": 74,
   "metadata": {},
   "outputs": [],
   "source": [
    "f0 = open(path + \"/\" + time_file,'w',encoding='utf-8')\n",
    "csv_writer = csv.writer(f0)"
   ]
  },
  {
   "cell_type": "markdown",
   "metadata": {},
   "source": [
    "创建要读取的文件对象，并把数据读取后存放的myDataList中"
   ]
  },
  {
   "cell_type": "code",
   "execution_count": 75,
   "metadata": {},
   "outputs": [],
   "source": [
    "f = open(my_file,'r+',encoding='utf-8')\n",
    "myDataList = f.readlines()"
   ]
  },
  {
   "cell_type": "markdown",
   "metadata": {},
   "source": [
    "逐行解析判断，把该时间段内的学生存入新的文件"
   ]
  },
  {
   "cell_type": "code",
   "execution_count": 76,
   "metadata": {},
   "outputs": [],
   "source": [
    "for line in myDataList:\n",
    "    entry = line.split(',')\n",
    "    if len(entry) == 2:\n",
    "        if entry[1] >= start_time and entry[1] <= end_time:\n",
    "            csv_writer.writerow(entry)"
   ]
  },
  {
   "cell_type": "markdown",
   "metadata": {},
   "source": [
    "记得关闭文件对象"
   ]
  },
  {
   "cell_type": "code",
   "execution_count": 77,
   "metadata": {},
   "outputs": [],
   "source": [
    "f0.close()\n",
    "f.close()"
   ]
  },
  {
   "cell_type": "markdown",
   "metadata": {},
   "source": [
    "# 根据时段区间和学生名字选择学生数据"
   ]
  },
  {
   "cell_type": "code",
   "execution_count": 78,
   "metadata": {},
   "outputs": [],
   "source": [
    "students =['LIUZIQI','SHITIANRUI']"
   ]
  },
  {
   "cell_type": "code",
   "execution_count": 79,
   "metadata": {},
   "outputs": [],
   "source": [
    "start_time= '17:30:00'\n",
    "end_time = '18:30:00'\n",
    "time_file ='time_name.csv'"
   ]
  },
  {
   "cell_type": "code",
   "execution_count": 80,
   "metadata": {},
   "outputs": [],
   "source": [
    "f0 = open(path + \"/\" + time_file,'w',encoding='utf-8')\n",
    "csv_writer = csv.writer(f0)"
   ]
  },
  {
   "cell_type": "code",
   "execution_count": 81,
   "metadata": {},
   "outputs": [],
   "source": [
    "f = open(my_file,'r+',encoding='utf-8')\n",
    "myDataList = f.readlines()"
   ]
  },
  {
   "cell_type": "code",
   "execution_count": 82,
   "metadata": {},
   "outputs": [],
   "source": [
    "for line in myDataList:\n",
    "    entry = line.split(',')\n",
    "    if len(entry) == 2:\n",
    "        if entry[1] >= start_time and entry[1] <= end_time:\n",
    "            for item in students:\n",
    "                if entry[0] == item:\n",
    "                    csv_writer.writerow(entry)"
   ]
  },
  {
   "cell_type": "code",
   "execution_count": 83,
   "metadata": {},
   "outputs": [],
   "source": [
    "f0.close()\n",
    "f.close()"
   ]
  },
  {
   "cell_type": "markdown",
   "metadata": {},
   "source": [
    "# 统计学生出现的次数"
   ]
  },
  {
   "cell_type": "markdown",
   "metadata": {},
   "source": [
    "前面已经用过的语句和概念，这里就不再解释了"
   ]
  },
  {
   "cell_type": "markdown",
   "metadata": {},
   "source": [
    "先定义一个字典用来存储学生的信息"
   ]
  },
  {
   "cell_type": "code",
   "execution_count": 86,
   "metadata": {},
   "outputs": [],
   "source": [
    "dict = {}"
   ]
  },
  {
   "cell_type": "markdown",
   "metadata": {},
   "source": [
    "用来存储统计信息的文件"
   ]
  },
  {
   "cell_type": "code",
   "execution_count": 87,
   "metadata": {},
   "outputs": [],
   "source": [
    "count_file = 'count_stuent.csv'\n",
    "f0 = open(path + \"/\" + count_file,'w',encoding='utf-8')\n",
    "csv_writer = csv.writer(f0)"
   ]
  },
  {
   "cell_type": "markdown",
   "metadata": {},
   "source": [
    "读取待统计文件"
   ]
  },
  {
   "cell_type": "code",
   "execution_count": 88,
   "metadata": {},
   "outputs": [],
   "source": [
    "f = open(my_file,'r+',encoding='utf-8')\n",
    "myDataList = f.readlines()"
   ]
  },
  {
   "cell_type": "markdown",
   "metadata": {},
   "source": [
    "利用python的字典存储统计信息"
   ]
  },
  {
   "cell_type": "code",
   "execution_count": 89,
   "metadata": {},
   "outputs": [],
   "source": [
    "for line in myDataList:\n",
    "    entry = line.split(',')\n",
    "    if entry[0] in dict:\n",
    "        dict[entry[0]] = int(dict[entry[0]]) + 1\n",
    "    else:\n",
    "        dict[entry[0]] = 1"
   ]
  },
  {
   "cell_type": "markdown",
   "metadata": {},
   "source": [
    "将字典中的数据存入统计文件中"
   ]
  },
  {
   "cell_type": "code",
   "execution_count": 90,
   "metadata": {},
   "outputs": [],
   "source": [
    "for item in dict:\n",
    "    csv_writer.writerow([item,dict[item]])"
   ]
  },
  {
   "cell_type": "markdown",
   "metadata": {},
   "source": [
    "关闭文件对象"
   ]
  },
  {
   "cell_type": "code",
   "execution_count": 91,
   "metadata": {},
   "outputs": [],
   "source": [
    "f.close()\n",
    "f0.close()"
   ]
  },
  {
   "cell_type": "markdown",
   "metadata": {},
   "source": [
    "# 把学生的数据画成柱状图"
   ]
  },
  {
   "cell_type": "markdown",
   "metadata": {},
   "source": [
    "引入相关的库"
   ]
  },
  {
   "cell_type": "code",
   "execution_count": 92,
   "metadata": {},
   "outputs": [],
   "source": [
    "import matplotlib.pyplot as plt\n",
    "import numpy as np"
   ]
  },
  {
   "cell_type": "code",
   "execution_count": 93,
   "metadata": {},
   "outputs": [],
   "source": [
    "count_file = 'count_stuent.csv'\n",
    "f = open(path + \"/\" + count_file,'r+',encoding='utf-8')\n",
    "myDataList = f.readlines()"
   ]
  },
  {
   "cell_type": "code",
   "execution_count": 94,
   "metadata": {},
   "outputs": [],
   "source": [
    "names = []\n",
    "names_num = []\n",
    "idx = 1\n",
    "times = []"
   ]
  },
  {
   "cell_type": "code",
   "execution_count": 95,
   "metadata": {},
   "outputs": [],
   "source": [
    "for line in myDataList:\n",
    "    entry = line.split(',')\n",
    "    if len(entry) == 2:\n",
    "        names.append(entry[0])\n",
    "        times.append(int(entry[1]))\n",
    "        names_num.append(idx)\n",
    "        idx += 1"
   ]
  },
  {
   "cell_type": "code",
   "execution_count": 97,
   "metadata": {},
   "outputs": [
    {
     "name": "stderr",
     "output_type": "stream",
     "text": [
      "No handles with labels found to put in legend.\n"
     ]
    },
    {
     "data": {
      "image/png": "[encoded data removed]",
      "text/plain": [
       "<Figure size 432x288 with 1 Axes>"
      ]
     },
     "metadata": {
      "needs_background": "light"
     },
     "output_type": "display_data"
    },
    {
     "name": "stdout",
     "output_type": "stream",
     "text": [
      "1 \"\n",
      "2 LIYUSHAN\n",
      "3 WENGSINAN\n",
      "4 ZHOUTIANTONG\n",
      "5 LIUZIQI\n",
      "6 SHITIANRUI\n",
      "7 LIU0XIANG\n",
      "8 QIWEI\n",
      "9 WANGYIJIN\n",
      "10 LIANGXINYU\n",
      "11 MAOYUFANG\n",
      "12 WANGYIHAN\n",
      "13 LOULAN\n",
      "14 ELON-MUSK\n",
      "15 BILL-GATES\n"
     ]
    }
   ],
   "source": [
    "# 绘图\n",
    "plt.bar(x=names_num, height=times, color='steelblue', alpha=0.8)\n",
    "# 设置标题\n",
    "plt.title(\"students attendance\")\n",
    "# 为两条坐标轴设置名称\n",
    "plt.xlabel(\"name\")\n",
    "plt.ylabel(\"times\")\n",
    "\n",
    "plt.legend()\n",
    "plt.show()\n",
    "for item in names_num:\n",
    "    print(item,names[item-1])"
   ]
  },
  {
   "cell_type": "code",
   "execution_count": null,
   "metadata": {},
   "outputs": [],
   "source": []
  }
 ],
 "metadata": {
  "kernelspec": {
   "display_name": "Python 3",
   "language": "python",
   "name": "python3"
  },
  "language_info": {
   "codemirror_mode": {
    "name": "ipython",
    "version": 3
   },
   "file_extension": ".py",
   "mimetype": "text/x-python",
   "name": "python",
   "nbconvert_exporter": "python",
   "pygments_lexer": "ipython3",
   "version": "3.6.9"
  }
 },
 "nbformat": 4,
 "nbformat_minor": 4
}
